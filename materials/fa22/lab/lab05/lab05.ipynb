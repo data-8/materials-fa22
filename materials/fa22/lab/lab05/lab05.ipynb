{
 "cells": [
  {
   "cell_type": "code",
   "execution_count": null,
   "metadata": {
    "deletable": false,
    "editable": false
   },
   "outputs": [],
   "source": [
    "# Initialize Otter\n",
    "import otter\n",
    "grader = otter.Notebook(\"lab05.ipynb\")"
   ]
  },
  {
   "cell_type": "markdown",
   "metadata": {},
   "source": [
    "# Lab 5: Simulations\n",
    "\n",
    "Welcome to Lab 5! \n",
    "\n",
    "We will go over [iteration](https://www.inferentialthinking.com/chapters/09/2/Iteration.html) and [simulations](https://www.inferentialthinking.com/chapters/09/3/Simulation.html), as well as introduce the concept of [randomness](https://www.inferentialthinking.com/chapters/09/Randomness.html).\n",
    "\n",
    "The data used in this lab will contain salary data and other statistics for basketball players from the 2014-2015 NBA season. This data was collected from the following sports analytic sites: [Basketball Reference](http://www.basketball-reference.com) and [Spotrac](http://www.spotrac.com).\n",
    "\n",
    "**Lab Submission Deadline: Friday September 30th at 11pm**\n",
    "\n"
   ]
  },
  {
   "cell_type": "markdown",
   "metadata": {},
   "source": [
    "**Getting help on lab**: Whenever you feel stuck or need some further clarification, find a GSI or academic intern, and they'll be happy to help!\n",
    "\n",
    "Here are the policies for getting full credit:\n",
    "\n",
    "1. For those attending in-person **Regular Labs**: you will receive lab credit by **attending** lab section and making significant progress in this notebook. You still need to **submit** this assignment to Gradescope after getting **checked off**, but you do not need to complete it.\n",
    "\n",
    "2. For those attending **Mega Labs**: you will receive lab credit by **completing** the notebook, passing the test cases, and **submitting** it to Gradescope by 11pm on the Friday the same week it was released.\n",
    "\n",
    "**Submission**: Once you\u2019re finished, run all cells besides the last one, select File > Save Notebook, and then execute the final cell. The result will contain a zip file that you can use to submit on Gradescope.\n",
    "\n",
    "Let's begin by setting up the tests and imports by running the cell below."
   ]
  },
  {
   "cell_type": "code",
   "execution_count": 1,
   "metadata": {},
   "outputs": [],
   "source": [
    "# Run this cell, but please don't change it.\n",
    "\n",
    "# These lines import the Numpy and Datascience modules.\n",
    "import numpy as np\n",
    "from datascience import *\n",
    "\n",
    "# These lines do some fancy plotting magic\n",
    "import matplotlib\n",
    "%matplotlib inline\n",
    "import matplotlib.pyplot as plt\n",
    "plt.style.use('fivethirtyeight')"
   ]
  },
  {
   "cell_type": "markdown",
   "metadata": {},
   "source": [
    "## 1. Nachos and Conditionals"
   ]
  },
  {
   "cell_type": "markdown",
   "metadata": {},
   "source": [
    "In Python, the boolean data type contains only two unique values:  `True` and `False`. Expressions containing comparison operators such as `<` (less than), `>` (greater than), and `==` (equal to) evaluate to Boolean values. A list of common comparison operators can be found below!\n",
    "\n",
    "<img src=\"comparisons.png\" alt=\"Chart of comparison operators\">"
   ]
  },
  {
   "cell_type": "markdown",
   "metadata": {},
   "source": [
    "Run the cell below to see an example of a comparison operator in action."
   ]
  },
  {
   "cell_type": "code",
   "execution_count": 2,
   "metadata": {},
   "outputs": [],
   "source": [
    "3 > (1 + 1)"
   ]
  },
  {
   "cell_type": "markdown",
   "metadata": {},
   "source": [
    "We can even assign the result of a comparison operation to a variable."
   ]
  },
  {
   "cell_type": "code",
   "execution_count": 3,
   "metadata": {},
   "outputs": [],
   "source": [
    "result = 10 / 2 == 5\n",
    "result"
   ]
  },
  {
   "cell_type": "markdown",
   "metadata": {},
   "source": [
    "Arrays are compatible with comparison operators. The output is an array of boolean values."
   ]
  },
  {
   "cell_type": "code",
   "execution_count": 4,
   "metadata": {},
   "outputs": [],
   "source": [
    "make_array(1, 5, 7, 8, 3, -1) > 3"
   ]
  },
  {
   "cell_type": "markdown",
   "metadata": {},
   "source": [
    "One day, when you come home after a long week, you see a hot bowl of nachos waiting on the dining table! Let's say that whenever you take a nacho from the bowl, it will either have only **cheese**, only **salsa**, **both** cheese and salsa, or **neither** cheese nor salsa (a sad tortilla chip indeed). \n",
    "\n",
    "Let's try and simulate taking nachos from the bowl at random using the function, `np.random.choice(...)`."
   ]
  },
  {
   "cell_type": "markdown",
   "metadata": {},
   "source": [
    "### `np.random.choice`\n",
    "\n",
    "`np.random.choice` picks one item at random from the given array. It is equally likely to pick any of the items. Run the cell below several times, and observe how the results change."
   ]
  },
  {
   "cell_type": "code",
   "execution_count": 5,
   "metadata": {},
   "outputs": [],
   "source": [
    "nachos = make_array('cheese', 'salsa', 'both', 'neither')\n",
    "np.random.choice(nachos)"
   ]
  },
  {
   "cell_type": "markdown",
   "metadata": {},
   "source": [
    "To repeat this process multiple times, pass in an int `n` as the second argument to return `n` different random choices. By default, `np.random.choice` samples **with replacement** and returns an *array* of items. Sampling **with replacement** means if we sample `n` times, each time, every element has an equal chance of being selected.\n",
    "\n",
    "Run the next cell to see an example of sampling with replacement 10 times from the `nachos` array."
   ]
  },
  {
   "cell_type": "code",
   "execution_count": 6,
   "metadata": {},
   "outputs": [],
   "source": [
    "np.random.choice(nachos, 10)"
   ]
  },
  {
   "cell_type": "markdown",
   "metadata": {},
   "source": [
    "To count the number of times a certain type of nacho is randomly chosen, we can use `np.count_nonzero`"
   ]
  },
  {
   "cell_type": "markdown",
   "metadata": {},
   "source": [
    "### `np.count_nonzero`\n",
    "\n",
    "`np.count_nonzero` counts the number of non-zero values that appear in an array. When an array of boolean values are passed through the function, it will count the number of `True` values (remember that in Python, **`True` is coded as 1 and `False` is coded as 0.**)\n",
    "\n",
    "Run the next cell to see an example that uses `np.count_nonzero`."
   ]
  },
  {
   "cell_type": "code",
   "execution_count": 7,
   "metadata": {},
   "outputs": [],
   "source": [
    "np.count_nonzero(make_array(True, False, False, True, True))"
   ]
  },
  {
   "cell_type": "markdown",
   "metadata": {
    "deletable": false,
    "editable": false
   },
   "source": [
    "**Question 1.1** Assume we took ten nachos at random, and stored the results in an array called `ten_nachos` as done below. Find the number of nachos with only cheese using code (do not hardcode the answer).  \n",
    "\n",
    "*Hint:* Our solution involves a comparison operator (e.g. `==`, `<`, ...) and the `np.count_nonzero` method.\n",
    "\n",
    "<!--\n",
    "BEGIN QUESTION\n",
    "name: q11\n",
    "-->"
   ]
  },
  {
   "cell_type": "code",
   "execution_count": 8,
   "metadata": {},
   "outputs": [],
   "source": [
    "ten_nachos = make_array('neither', 'cheese', 'both', 'both', 'cheese', 'salsa', 'both', 'neither', 'cheese', 'both')\n",
    "number_cheese = ...\n",
    "number_cheese"
   ]
  },
  {
   "cell_type": "code",
   "execution_count": null,
   "metadata": {
    "deletable": false,
    "editable": false
   },
   "outputs": [],
   "source": [
    "grader.check(\"q11\")"
   ]
  },
  {
   "cell_type": "markdown",
   "metadata": {},
   "source": [
    "**Conditional Statements**\n",
    "\n",
    "A conditional statement is a multi-line statement that allows Python to choose among different alternatives based on the truth value of an expression.\n",
    "\n",
    "Here is a basic example.\n",
    "\n",
    "```\n",
    "def sign(x):\n",
    "    if x > 0:\n",
    "        return 'Positive'\n",
    "    else:\n",
    "        return 'Negative'\n",
    "```\n",
    "\n",
    "If the input `x` is greater than `0`, we return the string `'Positive'`. Otherwise, we return `'Negative'`.\n",
    "\n",
    "If we want to test multiple conditions at once, we use the following general format.\n",
    "\n",
    "```\n",
    "if <if expression>:\n",
    "    <if body>\n",
    "elif <elif expression 0>:\n",
    "    <elif body 0>\n",
    "elif <elif expression 1>:\n",
    "    <elif body 1>\n",
    "...\n",
    "else:\n",
    "    <else body>\n",
    "```\n",
    "\n",
    "Only the body for the first conditional expression that is true will be evaluated. Each `if` and `elif` expression is evaluated and considered in order, starting at the top. `elif` can only be used if an `if` clause precedes it. As soon as a true value is found, the corresponding body is executed, and the rest of the conditional statement is skipped. If none of the `if` or `elif` expressions are true, then the `else body` is executed. \n",
    "\n",
    "For more examples and explanation, refer to the section on conditional statements [here](https://inferentialthinking.com/chapters/09/1/Conditional_Statements.html)."
   ]
  },
  {
   "cell_type": "markdown",
   "metadata": {
    "deletable": false,
    "editable": false
   },
   "source": [
    "**Question 1.2** Complete the following conditional statement so that the string `'More please'` is assigned to the variable `say_please` if the number of nachos with cheese in `ten_nachos` is less than `5`. Use the if statement to do this (do not directly reassign the variable `say_please`). \n",
    "\n",
    "*Hint*: You should be using `number_cheese` from Question 1.\n",
    "\n",
    "<!--\n",
    "BEGIN QUESTION\n",
    "name: q12\n",
    "-->"
   ]
  },
  {
   "cell_type": "code",
   "execution_count": 10,
   "metadata": {
    "for_assignment_type": "student"
   },
   "outputs": [],
   "source": [
    "say_please = '?'\n",
    "\n",
    "if ...:\n",
    "    say_please = 'More please'\n",
    "say_please"
   ]
  },
  {
   "cell_type": "code",
   "execution_count": null,
   "metadata": {
    "deletable": false,
    "editable": false
   },
   "outputs": [],
   "source": [
    "grader.check(\"q12\")"
   ]
  },
  {
   "cell_type": "markdown",
   "metadata": {
    "deletable": false,
    "editable": false
   },
   "source": [
    "**Question 1.3** Write a function called `nacho_reaction` that returns a reaction (as a string) based on the type of nacho passed in as an argument. Use the table below to match the nacho type to the appropriate reaction.\n",
    "\n",
    "<img src=\"nacho_reactions.png\" alt=\"Table of nacho type with their respective reactions\">\n",
    "\n",
    "*Hint:* If you're failing the test, double check the spelling of your reactions.\n",
    "\n",
    "<!--\n",
    "BEGIN QUESTION\n",
    "name: q13\n",
    "-->"
   ]
  },
  {
   "cell_type": "code",
   "execution_count": 12,
   "metadata": {
    "for_assignment_type": "student"
   },
   "outputs": [],
   "source": [
    "def nacho_reaction(nacho):\n",
    "    if nacho == \"cheese\":\n",
    "        return ...\n",
    "    ... :\n",
    "        ...\n",
    "    ... :\n",
    "        ...\n",
    "    ... :\n",
    "        ...\n",
    "\n",
    "spicy_nacho = nacho_reaction('salsa')\n",
    "spicy_nacho"
   ]
  },
  {
   "cell_type": "code",
   "execution_count": null,
   "metadata": {
    "deletable": false,
    "editable": false
   },
   "outputs": [],
   "source": [
    "grader.check(\"q13\")"
   ]
  },
  {
   "cell_type": "markdown",
   "metadata": {
    "deletable": false,
    "editable": false
   },
   "source": [
    "**Question 1.4** Create a table `ten_nachos_reactions` that consists of the nachos in `ten_nachos` as well as the reactions for each of those nachos. The columns should be called `Nachos` and `Reactions`.\n",
    "\n",
    "*Hint:* Consider using the `apply` method, which returns an array.\n",
    "\n",
    "<!--\n",
    "BEGIN QUESTION\n",
    "name: q14\n",
    "-->"
   ]
  },
  {
   "cell_type": "code",
   "execution_count": 17,
   "metadata": {
    "for_assignment_type": "student"
   },
   "outputs": [],
   "source": [
    "ten_nachos_tbl = Table().with_column('Nachos', ten_nachos)\n",
    "ten_nachos_reactions = ...\n",
    "ten_nachos_reactions"
   ]
  },
  {
   "cell_type": "code",
   "execution_count": null,
   "metadata": {
    "deletable": false,
    "editable": false
   },
   "outputs": [],
   "source": [
    "grader.check(\"q14\")"
   ]
  },
  {
   "cell_type": "markdown",
   "metadata": {
    "deletable": false,
    "editable": false
   },
   "source": [
    "**Question 1.5** Using code, find the number of 'Wow!' reactions for the nachos in `ten_nachos_reactions`.\n",
    "\n",
    "<!--\n",
    "BEGIN QUESTION\n",
    "name: q15\n",
    "-->"
   ]
  },
  {
   "cell_type": "code",
   "execution_count": 19,
   "metadata": {},
   "outputs": [],
   "source": [
    "number_wow_reactions = ...\n",
    "number_wow_reactions"
   ]
  },
  {
   "cell_type": "code",
   "execution_count": null,
   "metadata": {
    "deletable": false,
    "editable": false
   },
   "outputs": [],
   "source": [
    "grader.check(\"q15\")"
   ]
  },
  {
   "cell_type": "markdown",
   "metadata": {},
   "source": [
    "## 2. Simulations and For Loops\n",
    "Using a `for` statement, we can perform a task multiple times. This is known as iteration. The general structure of a for loop is:\n",
    "\n",
    "`for <placeholder> in <array>:` followed by indented lines of code that are repeated for each element of the `array` being iterated over. You can read more about for loops [here](https://www.inferentialthinking.com/chapters/09/2/Iteration.html). \n",
    "\n",
    "**NOTE:** We often use `i` as the `placeholder` in our class examples, but you could name it anything! Some examples can be found below."
   ]
  },
  {
   "cell_type": "markdown",
   "metadata": {},
   "source": [
    "One use of iteration is to loop through a set of values. For instance, we can print out all of the colors of the rainbow."
   ]
  },
  {
   "cell_type": "code",
   "execution_count": 22,
   "metadata": {},
   "outputs": [],
   "source": [
    "rainbow = make_array(\"red\", \"orange\", \"yellow\", \"green\", \"blue\", \"indigo\", \"violet\")\n",
    "\n",
    "for color in rainbow:\n",
    "    print(color)"
   ]
  },
  {
   "cell_type": "markdown",
   "metadata": {},
   "source": [
    "We can see that the indented part of the `for` loop, known as the body, is executed once for each item in `rainbow`. The name `color` is assigned to the next value in `rainbow` at the start of each iteration. Note that the name `color` is arbitrary; we could easily have named it something else. The important thing is we stay consistent throughout the `for` loop. "
   ]
  },
  {
   "cell_type": "code",
   "execution_count": 23,
   "metadata": {},
   "outputs": [],
   "source": [
    "for another_name in rainbow:\n",
    "    print(another_name)"
   ]
  },
  {
   "cell_type": "markdown",
   "metadata": {},
   "source": [
    "In general, however, we would like the variable name to be somewhat informative. "
   ]
  },
  {
   "cell_type": "markdown",
   "metadata": {
    "deletable": false,
    "editable": false
   },
   "source": [
    "**Question 2.1** In the following cell, we've loaded the text of _Pride and Prejudice_ by Jane Austen, split it into individual words, and stored these words in an array `p_and_p_words`. Using a `for` loop, assign `longer_than_five` to the number of words in the novel that are more than 5 letters long.\n",
    "\n",
    "*Hint*: You can find the number of letters in a word with the `len` function.\n",
    "\n",
    "*Hint*: How can you use `longer_than_five` to keep track of the number of words that are more than five letters long?\n",
    "\n",
    "<!--\n",
    "BEGIN QUESTION\n",
    "name: q21\n",
    "-->"
   ]
  },
  {
   "cell_type": "code",
   "execution_count": 24,
   "metadata": {
    "for_assignment_type": "student"
   },
   "outputs": [],
   "source": [
    "austen_string = open('Austen_PrideAndPrejudice.txt', encoding='utf-8').read()\n",
    "p_and_p_words = np.array(austen_string.split())\n",
    "\n",
    "longer_than_five = ...\n",
    "\n",
    "for ... in ...:\n",
    "    ...\n",
    "longer_than_five"
   ]
  },
  {
   "cell_type": "code",
   "execution_count": null,
   "metadata": {
    "deletable": false,
    "editable": false
   },
   "outputs": [],
   "source": [
    "grader.check(\"q21\")"
   ]
  },
  {
   "cell_type": "markdown",
   "metadata": {},
   "source": [
    "Another way we can use `for` loops is to repeat lines of code many times. Recall the structure of a `for` loop: \n",
    "\n",
    "`for <placeholder> in <array>:` followed by indented lines of code that are repeated for each element of the array being iterated over. \n",
    "\n",
    "Sometimes, we don't care about what the value of the placeholder is. We instead take advantage of the fact that the `for` loop will repeat as many times as the length of our array. In the following cell, we iterate through an array of length 5 and print out \"Hello, world!\" in each iteration. "
   ]
  },
  {
   "cell_type": "code",
   "execution_count": 26,
   "metadata": {},
   "outputs": [],
   "source": [
    "for i in np.arange(5):\n",
    "    print(\"Hello, world!\")"
   ]
  },
  {
   "cell_type": "markdown",
   "metadata": {
    "deletable": false,
    "editable": false
   },
   "source": [
    "**Question 2.2** Using a simulation with 10,000 trials, assign `num_different` to the **number** of times, in 10,000 trials, that two words picked uniformly at random (with replacement) from Pride and Prejudice have different lengths. \n",
    "\n",
    "*Hint 1*: What function did we use in section 1 to sample at random with replacement from an array? \n",
    "\n",
    "*Hint 2*: Remember that `!=` checks for non-equality between two items.\n",
    "\n",
    "<!--\n",
    "BEGIN QUESTION\n",
    "name: q22\n",
    "-->"
   ]
  },
  {
   "cell_type": "code",
   "execution_count": 27,
   "metadata": {
    "for_assignment_type": "student"
   },
   "outputs": [],
   "source": [
    "trials = 10000\n",
    "num_different = ...\n",
    "\n",
    "for ... in ...:\n",
    "    ...\n",
    "num_different"
   ]
  },
  {
   "cell_type": "code",
   "execution_count": null,
   "metadata": {
    "deletable": false,
    "editable": false
   },
   "outputs": [],
   "source": [
    "grader.check(\"q22\")"
   ]
  },
  {
   "cell_type": "markdown",
   "metadata": {},
   "source": [
    "## 3. Sampling Basketball Data\n",
    "\n",
    "We will now introduce the topic of sampling, which we\u2019ll be discussing in more depth in this week\u2019s lectures. We\u2019ll guide you through this code, but if you wish to read more about different kinds of samples before attempting this question, you can check out [section 10 of the textbook](https://www.inferentialthinking.com/chapters/10/Sampling_and_Empirical_Distributions.html).\n",
    "\n",
    "Run the cell below to load player and salary data that we will use for our sampling. "
   ]
  },
  {
   "cell_type": "code",
   "execution_count": 29,
   "metadata": {},
   "outputs": [],
   "source": [
    "player_data = Table().read_table(\"player_data.csv\")\n",
    "salary_data = Table().read_table(\"salary_data.csv\")\n",
    "full_data = salary_data.join(\"PlayerName\", player_data, \"Name\")\n",
    "\n",
    "# The show method immediately displays the contents of a table. \n",
    "# This way, we can display the top of two tables using a single cell.\n",
    "player_data.show(3)\n",
    "salary_data.show(3)\n",
    "full_data.show(3)"
   ]
  },
  {
   "cell_type": "markdown",
   "metadata": {},
   "source": [
    "Rather than getting data on every player (as in the tables loaded above), imagine that we had gotten data on only a smaller subset of the players. For 492 players, it's not so unreasonable to expect to see all the data, but usually we aren't so lucky. \n",
    "\n",
    "If we want to make estimates about a certain numerical property of the population, we may have to come up with these estimates based only on a smaller sample. The numerical property of the population is known as a **parameter**, and the estimate is known as a **statistic** (e.g. the mean or median). Whether these estimates are useful or not often depends on how the sample was gathered. We have prepared some example sample datasets to see how they compare to the full NBA dataset. Later we'll ask you to create your own samples to see how they behave."
   ]
  },
  {
   "cell_type": "markdown",
   "metadata": {},
   "source": [
    "To save typing and increase the clarity of your code, we will package the analysis code into a few functions. This will be useful in the rest of the lab as we will repeatedly need to create histograms and collect summary statistics from that data."
   ]
  },
  {
   "cell_type": "markdown",
   "metadata": {},
   "source": [
    "We've defined the `histograms` function below, which takes a table with columns `Age` and `Salary` and draws a histogram for each one. It uses bin widths of 1 year for `Age` and $1,000,000 for `Salary`."
   ]
  },
  {
   "cell_type": "code",
   "execution_count": 30,
   "metadata": {
    "scrolled": true
   },
   "outputs": [],
   "source": [
    "def histograms(t):\n",
    "    ages = t.column('Age')\n",
    "    salaries = t.column('Salary')/1000000\n",
    "    t1 = t.drop('Salary').with_column('Salary', salaries)\n",
    "    age_bins = np.arange(min(ages), max(ages) + 2, 1) \n",
    "    salary_bins = np.arange(min(salaries), max(salaries) + 1, 1)\n",
    "    t1.hist('Age', bins=age_bins, unit='year')\n",
    "    plt.title('Age distribution')\n",
    "    t1.hist('Salary', bins=salary_bins, unit='million dollars')\n",
    "    plt.title('Salary distribution') \n",
    "    \n",
    "histograms(full_data)\n",
    "print('Two histograms should be displayed below')"
   ]
  },
  {
   "cell_type": "markdown",
   "metadata": {
    "deletable": false,
    "editable": false
   },
   "source": [
    "**Question 3.1**. Create a function called `compute_statistics` that takes a table containing an \"Age\" column and a \"Salary\" column and:\n",
    "- Draws a histogram of ages\n",
    "- Draws a histogram of salaries\n",
    "- Returns a two-element array containing the average age and average salary (in that order)\n",
    "\n",
    "You can call the `histograms` function to draw the histograms! \n",
    "\n",
    "*Note:* More charts will be displayed when running the test cell. Please feel free to ignore the charts.\n",
    "\n",
    "<!--\n",
    "BEGIN QUESTION\n",
    "name: q31\n",
    "-->"
   ]
  },
  {
   "cell_type": "code",
   "execution_count": 31,
   "metadata": {},
   "outputs": [],
   "source": [
    "def compute_statistics(age_and_salary_data):\n",
    "    ...\n",
    "    age = ...\n",
    "    salary = ...\n",
    "    ...\n",
    "    \n",
    "\n",
    "full_stats = compute_statistics(full_data)\n",
    "full_stats"
   ]
  },
  {
   "cell_type": "code",
   "execution_count": null,
   "metadata": {
    "deletable": false,
    "editable": false
   },
   "outputs": [],
   "source": [
    "grader.check(\"q31\")"
   ]
  },
  {
   "cell_type": "markdown",
   "metadata": {},
   "source": [
    "### Simple random sampling\n",
    "A more justifiable approach is to sample uniformly at random from the players.  In a **simple random sample (SRS) without replacement**, we ensure that each player is selected at most once. Imagine writing down each player's name on a card, putting the cards in an box, and shuffling the box.  Then, pull out cards one by one and set them aside, stopping when the specified sample size is reached."
   ]
  },
  {
   "cell_type": "markdown",
   "metadata": {},
   "source": [
    "### Producing simple random samples\n",
    "Sometimes, it\u2019s useful to take random samples even when we have the data for the whole population. It helps us understand sampling accuracy.\n",
    "\n",
    "### `sample`\n",
    "\n",
    "The table method `sample` produces a random sample from the table. By default, it draws at random **with replacement** from the rows of a table. Sampling with replacement means for any row selected randomly, there is a chance it can be selected again if we sample multiple times. `Sample` takes in the sample size as its argument and returns a **table** with only the rows that were selected. This differs from `np.random.choice`, which takes an array and outputs a random value from the array.\n",
    "\n",
    "Run the cell below to see an example call to `sample()` with a sample size of 5, with replacement."
   ]
  },
  {
   "cell_type": "code",
   "execution_count": 34,
   "metadata": {},
   "outputs": [],
   "source": [
    "# Just run this cell\n",
    "\n",
    "salary_data.sample(5)"
   ]
  },
  {
   "cell_type": "markdown",
   "metadata": {},
   "source": [
    "The optional argument `with_replacement=False` can be passed through `sample()` to specify that the sample should be drawn without replacement.\n",
    "\n",
    "Run the cell below to see an example call to `sample()` with a sample size of 5, without replacement."
   ]
  },
  {
   "cell_type": "code",
   "execution_count": 35,
   "metadata": {},
   "outputs": [],
   "source": [
    "# Just run this cell\n",
    "\n",
    "salary_data.sample(5, with_replacement=False)"
   ]
  },
  {
   "cell_type": "markdown",
   "metadata": {},
   "source": [
    "**Question 3.2** Produce a simple random sample **without** replacement of size **44** from `full_data`. Then, run your analysis on it again by using the `compute_statistics` function.  Run the cell a few times to see how the histograms and statistics change across different samples.\n",
    "\n",
    "- How much does the average age change across samples? \n",
    "- What about average salary?\n",
    "\n",
    "(FYI: srs = simple random sample, wor = without replacement)"
   ]
  },
  {
   "cell_type": "code",
   "execution_count": 36,
   "metadata": {},
   "outputs": [],
   "source": [
    "my_small_srswor_data = ...\n",
    "my_small_stats = ...\n",
    "my_small_stats"
   ]
  },
  {
   "cell_type": "markdown",
   "metadata": {},
   "source": [
    "_Type your answer here, replacing this text._"
   ]
  },
  {
   "cell_type": "markdown",
   "metadata": {},
   "source": [
    "## 4. More Random Sampling Practice\n",
    "\n",
    "More practice for random sampling using `np.random.choice`."
   ]
  },
  {
   "cell_type": "markdown",
   "metadata": {},
   "source": [
    "###  Simulations and For Loops (cont.)"
   ]
  },
  {
   "cell_type": "markdown",
   "metadata": {
    "deletable": false,
    "editable": false
   },
   "source": [
    "**Question 4.1** We can use `np.random.choice` to simulate multiple trials.\n",
    "\n",
    "After finishing this project, Stephanie decides to spend the rest of her night rolling a standard six-sided die. She wants to know what her total score would be if she rolled the die 1000 times. Write code that simulates her total score after 1000 rolls. \n",
    "\n",
    "*Hint:* First decide the possible values you can take in the experiment (point values in this case). Then use `np.random.choice` to simulate Stephanie\u2019s rolls. Finally, sum up the rolls to get Stephanie's total score.\n",
    "\n",
    "<!--\n",
    "BEGIN QUESTION\n",
    "name: q41\n",
    "-->"
   ]
  },
  {
   "cell_type": "code",
   "execution_count": 37,
   "metadata": {},
   "outputs": [],
   "source": [
    "possible_point_values = ...\n",
    "num_tosses = 1000\n",
    "simulated_tosses = ...\n",
    "total_score = ...\n",
    "total_score"
   ]
  },
  {
   "cell_type": "code",
   "execution_count": null,
   "metadata": {
    "deletable": false,
    "editable": false
   },
   "outputs": [],
   "source": [
    "grader.check(\"q41\")"
   ]
  },
  {
   "cell_type": "markdown",
   "metadata": {},
   "source": [
    "### Simple random sampling (cont.)"
   ]
  },
  {
   "cell_type": "markdown",
   "metadata": {},
   "source": [
    "**Question 4.2** As in the previous question, analyze several simple random samples of size 100 from `full_data` by using the `compute_statistics` function.  \n",
    "- Do the histogram shapes seem to change more or less across samples of 100 than across samples of size 44?  \n",
    "- Are the sample averages and histograms closer to their true values/shape for age or for salary?  What did you expect to see?"
   ]
  },
  {
   "cell_type": "code",
   "execution_count": 39,
   "metadata": {},
   "outputs": [],
   "source": [
    "my_large_srswor_data = ...\n",
    "my_large_stats = ...\n",
    "my_large_stats"
   ]
  },
  {
   "cell_type": "markdown",
   "metadata": {},
   "source": [
    "_Type your answer here, replacing this text._"
   ]
  },
  {
   "cell_type": "markdown",
   "metadata": {},
   "source": [
    "---\n",
    "\n",
    "<img src=\"clover.JPG\" alt=\"drawing\" width=\"300\"/>\n",
    "\n",
    "Clover wants to congratulate you on completing the lab!"
   ]
  },
  {
   "cell_type": "markdown",
   "metadata": {},
   "source": [
    "----\n",
    "## Data Science Education Survey\n",
    "You are invited to complete a survey, funded by the National Science Foundation, about your experiences in data science courses and other programs on campus. Your responses to this survey will be used to understand the strengths and weaknesses of current campus offerings. It will also be used to improve data science education at Berkeley and at other campuses around the country that are now adopting many aspects of the Berkeley curriculum. Participation is optional. Your participation in the study will not affect your grades. None of your instructors will see your individual responses or whether you participated. As a thanks for your completion of the survey, you have the option to receive a $\\$5$ Amazon gift card OR be entered into a drawing for a $\\$50$ Amazon gift card. The survey should take about 10 minutes. Please complete the survey here: https://berkeley.qualtrics.com/jfe/form/SV_8FU9n64Vdrq6XPw"
   ]
  },
  {
   "cell_type": "markdown",
   "metadata": {},
   "source": [
    "\n",
    "---\n",
    "\n",
    "You're done with lab!\n",
    "\n",
    "**Important submission information:**\n",
    "- **Run all the tests** and verify that they all pass\n",
    "- **Save** from the **File** menu\n",
    "- **Run the final cell to generate the zip file**\n",
    "- **Click the link to download the zip file**\n",
    "- Then, go to [Gradescope](https://www.gradescope.com/courses/415727) and submit the zip file to the corresponding assignment. The name of this assignment is \"Lab XX Autograder\", where XX is the lab number -- 01, 02, 03, etc.\n",
    "- And if you finish early in Regular Lab, **ask one of the staff members to check you off**.\n",
    "\n",
    "**It is your responsibility to make sure your work is saved before running the last cell.**\n"
   ]
  },
  {
   "cell_type": "markdown",
   "metadata": {
    "deletable": false,
    "editable": false
   },
   "source": [
    "---\n",
    "\n",
    "To double-check your work, the cell below will rerun all of the autograder tests."
   ]
  },
  {
   "cell_type": "code",
   "execution_count": null,
   "metadata": {
    "deletable": false,
    "editable": false
   },
   "outputs": [],
   "source": [
    "grader.check_all()"
   ]
  },
  {
   "cell_type": "markdown",
   "metadata": {
    "deletable": false,
    "editable": false
   },
   "source": [
    "## Submission\n",
    "\n",
    "Make sure you have run all cells in your notebook in order before running the cell below, so that all images/graphs appear in the output. The cell below will generate a zip file for you to submit. **Please save before exporting!**"
   ]
  },
  {
   "cell_type": "code",
   "execution_count": null,
   "metadata": {
    "deletable": false,
    "editable": false
   },
   "outputs": [],
   "source": [
    "# Save your notebook first, then run this cell to export your submission.\n",
    "grader.export(pdf=False)"
   ]
  },
  {
   "cell_type": "markdown",
   "metadata": {},
   "source": [
    " "
   ]
  }
 ],
 "metadata": {
  "kernelspec": {
   "display_name": "Python 3",
   "language": "python",
   "name": "python3"
  },
  "language_info": {
   "codemirror_mode": {
    "name": "ipython",
    "version": 3
   },
   "file_extension": ".py",
   "mimetype": "text/x-python",
   "name": "python",
   "nbconvert_exporter": "python",
   "pygments_lexer": "ipython3",
   "version": "3.9.13"
  }
 },
 "nbformat": 4,
 "nbformat_minor": 5
}
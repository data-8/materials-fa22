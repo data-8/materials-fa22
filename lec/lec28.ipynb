{
 "cells": [
  {
   "cell_type": "code",
   "execution_count": null,
   "metadata": {
    "scrolled": true
   },
   "outputs": [],
   "source": [
    "import matplotlib\n",
    "from datascience import *\n",
    "%matplotlib inline\n",
    "import matplotlib.pyplot as plots\n",
    "import numpy as np\n",
    "plots.style.use('fivethirtyeight')"
   ]
  },
  {
   "cell_type": "markdown",
   "metadata": {},
   "source": [
    "# Lecture 28 #"
   ]
  },
  {
   "cell_type": "markdown",
   "metadata": {},
   "source": [
    "## Review: Lecture 24\n",
    "From a random sample, construct a 95% confidence interval for the ages of the mothers in the population."
   ]
  },
  {
   "cell_type": "code",
   "execution_count": null,
   "metadata": {
    "scrolled": true
   },
   "outputs": [],
   "source": [
    "# original sample\n",
    "\n",
    "births = Table.read_table('baby.csv')\n",
    "births.show(3)"
   ]
  },
  {
   "cell_type": "code",
   "execution_count": null,
   "metadata": {
    "scrolled": true
   },
   "outputs": [],
   "source": [
    "def one_bootstrap_mean():\n",
    "    resample = births.sample()\n",
    "    return np.average(resample.column('Maternal Age'))"
   ]
  },
  {
   "cell_type": "code",
   "execution_count": null,
   "metadata": {
    "scrolled": true
   },
   "outputs": [],
   "source": [
    "# Generate means from 3000 bootstrap samples\n",
    "num_repetitions = 3000\n",
    "bstrap_means = make_array()\n",
    "for i in np.arange(num_repetitions):\n",
    "    bstrap_means = np.append(bstrap_means, one_bootstrap_mean())"
   ]
  },
  {
   "cell_type": "code",
   "execution_count": null,
   "metadata": {
    "scrolled": true
   },
   "outputs": [],
   "source": [
    "# Get the endpoints of the 95% confidence interval\n",
    "left = percentile(2.5, bstrap_means)\n",
    "right = percentile(97.5, bstrap_means)"
   ]
  },
  {
   "cell_type": "code",
   "execution_count": null,
   "metadata": {
    "scrolled": true
   },
   "outputs": [],
   "source": [
    "resampled_means = Table().with_columns(\n",
    "    'Bootstrap Sample Mean', bstrap_means\n",
    ")\n",
    "resampled_means.hist(bins=15)\n",
    "plots.plot([left, right], [0, 0], color='yellow', lw=8);"
   ]
  },
  {
   "cell_type": "code",
   "execution_count": null,
   "metadata": {
    "scrolled": false
   },
   "outputs": [],
   "source": [
    "left, right"
   ]
  },
  {
   "cell_type": "markdown",
   "metadata": {},
   "source": [
    "## Method Based on CLT"
   ]
  },
  {
   "cell_type": "code",
   "execution_count": null,
   "metadata": {
    "scrolled": true
   },
   "outputs": [],
   "source": [
    "sampled_ages = births.column('Maternal Age')\n",
    "sample_size = len(sampled_ages)\n",
    "sample_average = np.average(sampled_ages)\n",
    "sample_SD = np.std(sampled_ages)\n",
    "\n",
    "print(f\"Sample Size: {sample_size}\")\n",
    "print(f\"Sample Average: {sample_average}\")\n",
    "print(f\"Sample SD: {sample_SD}\")"
   ]
  },
  {
   "cell_type": "markdown",
   "metadata": {},
   "source": [
    "We need to add and subtract $2 \\cdot ( \\frac{\\text{Population SD}}{\\sqrt{\\text{Sample_Size}}})$ but we don't have the population SD."
   ]
  },
  {
   "cell_type": "code",
   "execution_count": null,
   "metadata": {
    "scrolled": true
   },
   "outputs": [],
   "source": [
    "# Try estimating it from the sample\n",
    "\n",
    "estimated_SD_of_sample_average = sample_SD / (sample_size**0.5)\n",
    "estimated_SD_of_sample_average"
   ]
  },
  {
   "cell_type": "code",
   "execution_count": null,
   "metadata": {
    "scrolled": true
   },
   "outputs": [],
   "source": [
    "# Approximate 95% confidence interval for population mean\n",
    "\n",
    "sample_average - 2*estimated_SD_of_sample_average, sample_average + 2*estimated_SD_of_sample_average"
   ]
  },
  {
   "cell_type": "markdown",
   "metadata": {},
   "source": [
    "## SD of 0/1 population"
   ]
  },
  {
   "cell_type": "code",
   "execution_count": null,
   "metadata": {
    "scrolled": true
   },
   "outputs": [],
   "source": [
    "# population of size 10\n",
    "\n",
    "number_of_ones = 2\n",
    "zero_one_population = np.append(np.ones(number_of_ones), np.zeros(10 - number_of_ones))\n",
    "\n",
    "print('Standard Deviation:', np.round(np.std(zero_one_population),2))\n",
    "\n",
    "zero_one_population"
   ]
  },
  {
   "cell_type": "code",
   "execution_count": null,
   "metadata": {
    "scrolled": true
   },
   "outputs": [],
   "source": [
    "def sd_of_zero_one_population(number_of_ones):\n",
    "    \"\"\"Returns the SD of a population \n",
    "    that has 10 elements: num_ones with value 1 and (10 - num_ones) with value 0\"\"\"\n",
    "    zero_one_population = np.append(np.ones(number_of_ones), \n",
    "                                    np.zeros(10 - number_of_ones))\n",
    "    return np.std(zero_one_population)"
   ]
  },
  {
   "cell_type": "code",
   "execution_count": null,
   "metadata": {
    "scrolled": true
   },
   "outputs": [],
   "source": [
    "possible_ones = np.arange(11)\n",
    "zero_one_pop = Table().with_columns(\n",
    "    'Number of Ones', possible_ones,\n",
    "    'Proportion of Ones', possible_ones / 10\n",
    ")\n",
    "zero_one_pop.show()"
   ]
  },
  {
   "cell_type": "code",
   "execution_count": null,
   "metadata": {
    "scrolled": true
   },
   "outputs": [],
   "source": [
    "sds = zero_one_pop.apply(sd_of_zero_one_population, 'Number of Ones')\n",
    "zero_one_pop = zero_one_pop.with_column('Pop SD', sds)\n",
    "zero_one_pop.show()"
   ]
  },
  {
   "cell_type": "code",
   "execution_count": null,
   "metadata": {
    "scrolled": true
   },
   "outputs": [],
   "source": [
    "zero_one_pop.scatter('Proportion of Ones', 'Pop SD')"
   ]
  }
 ],
 "metadata": {
  "kernelspec": {
   "display_name": "Python 3 (ipykernel)",
   "language": "python",
   "name": "python3"
  },
  "language_info": {
   "codemirror_mode": {
    "name": "ipython",
    "version": 3
   },
   "file_extension": ".py",
   "mimetype": "text/x-python",
   "name": "python",
   "nbconvert_exporter": "python",
   "pygments_lexer": "ipython3",
   "version": "3.9.11"
  }
 },
 "nbformat": 4,
 "nbformat_minor": 4
}

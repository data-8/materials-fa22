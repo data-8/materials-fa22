{
 "cells": [
  {
   "cell_type": "code",
   "execution_count": null,
   "metadata": {},
   "outputs": [],
   "source": [
    "from datascience import *\n",
    "import numpy as np\n",
    "import matplotlib\n",
    "from mpl_toolkits.mplot3d import Axes3D\n",
    "\n",
    "%matplotlib inline\n",
    "import matplotlib.pyplot as plt\n",
    "plt.style.use('fivethirtyeight')\n",
    "\n",
    "import warnings\n",
    "warnings.simplefilter(\"ignore\")"
   ]
  },
  {
   "cell_type": "code",
   "execution_count": null,
   "metadata": {},
   "outputs": [],
   "source": [
    "def standard_units(x):\n",
    "    return (x - np.mean(x))/np.std(x)"
   ]
  },
  {
   "cell_type": "code",
   "execution_count": null,
   "metadata": {},
   "outputs": [],
   "source": [
    "def distance(point1, point2):\n",
    "    \"\"\"The distance between two arrays of numbers.\"\"\"\n",
    "    return np.sqrt(np.sum((point1 - point2)**2))\n",
    "\n",
    "def all_distances(training, point):\n",
    "    \"\"\"The distance between p (an array of numbers) and the numbers in row i of attribute_table.\"\"\"\n",
    "    attributes = training.drop('Class')\n",
    "    def distance_from_point(row):\n",
    "        return distance(point, np.array(row))\n",
    "    return attributes.apply(distance_from_point)\n",
    "\n",
    "def table_with_distances(training, point):\n",
    "    \"\"\"A copy of the training table with the distance from each row to array p.\"\"\"\n",
    "    return training.with_column('Distance', all_distances(training, point))\n",
    "\n",
    "def closest(training, point, k):\n",
    "    \"\"\"A table containing the k closest rows in the training table to array p.\"\"\"\n",
    "    with_dists = table_with_distances(training, point)\n",
    "    sorted_by_distance = with_dists.sort('Distance')\n",
    "    topk = sorted_by_distance.take(np.arange(k))\n",
    "    return topk\n",
    "\n",
    "def majority(topkclasses):\n",
    "    \"\"\"1 if the majority of the \"Class\" column is 1s, and 0 otherwise.\"\"\"\n",
    "    ones = topkclasses.where('Class', are.equal_to(1)).num_rows\n",
    "    zeros = topkclasses.where('Class', are.equal_to(0)).num_rows\n",
    "    if ones > zeros:\n",
    "        return 1\n",
    "    else:\n",
    "        return 0\n",
    "\n",
    "def classify(training, p, k):\n",
    "    \"\"\"Classify an example with attributes p using k-nearest neighbor classification with the given training table.\"\"\"\n",
    "    closestk = closest(training, p, k)\n",
    "    topkclasses = closestk.select('Class')\n",
    "    return majority(topkclasses)\n",
    "\n",
    "def show_closest(point):\n",
    "    \"\"\"point = array([x,y]) \n",
    "    gives the coordinates of a new point\n",
    "    shown in red\"\"\"\n",
    "    \n",
    "    HemoGl = ckd.drop('White Blood Cell Count', 'Color')\n",
    "    t = closest(HemoGl, point, 1)\n",
    "    x_closest = t.row(0).item(1)\n",
    "    y_closest = t.row(0).item(2)\n",
    "    ckd.scatter('Hemoglobin', 'Glucose', group='Color')\n",
    "    plt.scatter(point.item(0), point.item(1), color='red', s=30)\n",
    "    plt.plot(make_array(point.item(0), x_closest), make_array(point.item(1), y_closest), color='k', lw=2);"
   ]
  },
  {
   "cell_type": "code",
   "execution_count": null,
   "metadata": {},
   "outputs": [],
   "source": [
    "def plot_all_points(test_grid):\n",
    "    test_grid.scatter('Hemoglobin', 'Glucose', color='red', alpha=0.4, s=30)\n",
    "\n",
    "    plt.scatter(ckd.column('Hemoglobin'), ckd.column('Glucose'), c=ckd.column('Color'), edgecolor='k')\n",
    "\n",
    "    plt.xlim(-2, 2)\n",
    "    plt.ylim(-2, 2);\n",
    "    \n",
    "def classify_grid(training, test, k):\n",
    "    c = make_array()\n",
    "    for i in range(test.num_rows):\n",
    "        # Run the classifier on the ith patient in the test set\n",
    "        c = np.append(c, classify(training, make_array(test.row(i)), k))   \n",
    "    return c\n",
    "\n",
    "def plot_all_points_classified(test_grid):\n",
    "    c = classify_grid(ckd.drop('White Blood Cell Count', 'Color'), test_grid, 1)\n",
    "    test_grid = test_grid.with_column('Class', c).join('Class', color_table)\n",
    "    test_grid.scatter('Hemoglobin', 'Glucose', group='Color', alpha=0.4, s=30)\n",
    "\n",
    "    plt.scatter(ckd.column('Hemoglobin'), ckd.column('Glucose'), c=ckd.column('Color'), edgecolor='k')\n",
    "\n",
    "    plt.xlim(-2, 2)\n",
    "    plt.ylim(-2, 2);"
   ]
  },
  {
   "cell_type": "markdown",
   "metadata": {},
   "source": [
    "# Lecture 35"
   ]
  },
  {
   "cell_type": "markdown",
   "metadata": {},
   "source": [
    "# Classification Examples"
   ]
  },
  {
   "cell_type": "markdown",
   "metadata": {},
   "source": [
    "## Classifying Patients ##"
   ]
  },
  {
   "cell_type": "code",
   "execution_count": null,
   "metadata": {},
   "outputs": [],
   "source": [
    "ckd = Table.read_table('ckd.csv').relabeled('Blood Glucose Random', 'Glucose')\n",
    "ckd.show(3)"
   ]
  },
  {
   "cell_type": "code",
   "execution_count": null,
   "metadata": {},
   "outputs": [],
   "source": [
    "ckd.group('Class')"
   ]
  },
  {
   "cell_type": "code",
   "execution_count": null,
   "metadata": {},
   "outputs": [],
   "source": [
    "ckd.scatter('White Blood Cell Count', 'Glucose', group='Class')"
   ]
  },
  {
   "cell_type": "code",
   "execution_count": null,
   "metadata": {},
   "outputs": [],
   "source": [
    "ckd.scatter('Hemoglobin', 'Glucose', group='Class')"
   ]
  },
  {
   "cell_type": "code",
   "execution_count": null,
   "metadata": {},
   "outputs": [],
   "source": [
    "# we want to be able to way to predict the class of someone\n",
    "# without having to plot & eye ball this graph every time.\n",
    "#\n",
    "# one way to do this is to put some thresholds into code\n",
    "\n",
    "max_glucose_for_0 = ckd.where('Class',are.equal_to(0)).column('Glucose').max()\n",
    "min_hemoglobin_for_0 = ckd.where('Class',are.equal_to(0)).column('Hemoglobin').min()"
   ]
  },
  {
   "cell_type": "code",
   "execution_count": null,
   "metadata": {},
   "outputs": [],
   "source": [
    "def classify_manually(hemoglobin, glucose):\n",
    "    if hemoglobin < min_hemoglobin_for_0 or glucose > max_glucose_for_0:\n",
    "        return 1\n",
    "    else:\n",
    "        return 0"
   ]
  },
  {
   "cell_type": "code",
   "execution_count": null,
   "metadata": {},
   "outputs": [],
   "source": [
    "# Let's try our classifier!\n",
    "classify_manually(15, 100)"
   ]
  },
  {
   "cell_type": "code",
   "execution_count": null,
   "metadata": {},
   "outputs": [],
   "source": [
    "classify_manually(10, 300)"
   ]
  },
  {
   "cell_type": "markdown",
   "metadata": {},
   "source": [
    "## Classifying Banknotes ##"
   ]
  },
  {
   "cell_type": "code",
   "execution_count": null,
   "metadata": {},
   "outputs": [],
   "source": [
    "banknotes = Table.read_table('banknote.csv')\n",
    "banknotes"
   ]
  },
  {
   "cell_type": "code",
   "execution_count": null,
   "metadata": {},
   "outputs": [],
   "source": [
    "banknotes.group('Class')"
   ]
  },
  {
   "cell_type": "code",
   "execution_count": null,
   "metadata": {},
   "outputs": [],
   "source": [
    "banknotes.scatter('WaveletVar', 'WaveletCurt', group='Class')"
   ]
  },
  {
   "cell_type": "code",
   "execution_count": null,
   "metadata": {},
   "outputs": [],
   "source": [
    "banknotes.scatter('WaveletSkew', 'Entropy', group='Class')"
   ]
  },
  {
   "cell_type": "code",
   "execution_count": null,
   "metadata": {},
   "outputs": [],
   "source": [
    "fig = plt.figure(figsize=(8,8))\n",
    "ax = Axes3D(fig)\n",
    "ax.scatter(banknotes.column('WaveletSkew'), \n",
    "           banknotes.column('WaveletVar'), \n",
    "           banknotes.column('WaveletCurt'), \n",
    "           c=banknotes.column('Class'),\n",
    "           cmap='viridis',\n",
    "          s=50);"
   ]
  },
  {
   "cell_type": "markdown",
   "metadata": {},
   "source": [
    "## Nearest Neighbor Classifer"
   ]
  },
  {
   "cell_type": "code",
   "execution_count": null,
   "metadata": {},
   "outputs": [],
   "source": [
    "# convert features into standard units\n",
    "ckd = Table().with_columns(\n",
    "    'Hemoglobin', standard_units(ckd.column('Hemoglobin')),\n",
    "    'Glucose', standard_units(ckd.column('Glucose')),\n",
    "    'White Blood Cell Count', standard_units(ckd.column('White Blood Cell Count')),\n",
    "    'Class', ckd.column('Class')\n",
    ")"
   ]
  },
  {
   "cell_type": "code",
   "execution_count": null,
   "metadata": {},
   "outputs": [],
   "source": [
    "color_table = Table().with_columns(\n",
    "    'Class', make_array(0, 1),\n",
    "    'Color', make_array('darkblue', 'gold')\n",
    ")\n",
    "ckd = ckd.join('Class', color_table)"
   ]
  },
  {
   "cell_type": "code",
   "execution_count": null,
   "metadata": {},
   "outputs": [],
   "source": [
    "ckd.scatter('Hemoglobin', 'Glucose', group='Color')"
   ]
  },
  {
   "cell_type": "code",
   "execution_count": null,
   "metadata": {},
   "outputs": [],
   "source": [
    "alice = make_array(0, 1.5)\n",
    "show_closest(alice)"
   ]
  },
  {
   "cell_type": "markdown",
   "metadata": {},
   "source": [
    "## Decision Boundary"
   ]
  },
  {
   "cell_type": "code",
   "execution_count": null,
   "metadata": {},
   "outputs": [],
   "source": [
    "alice = make_array(0, 0.95)\n",
    "show_closest(alice)"
   ]
  },
  {
   "cell_type": "code",
   "execution_count": null,
   "metadata": {},
   "outputs": [],
   "source": [
    "# Create a grid of all points\n",
    "x_array = make_array()\n",
    "y_array = make_array()\n",
    "for x in np.arange(-2, 2.1, 0.1):\n",
    "    for y in np.arange(-2, 2.1, 0.1):\n",
    "        x_array = np.append(x_array, x)\n",
    "        y_array = np.append(y_array, y)\n",
    "\n",
    "test_grid = Table().with_columns(\n",
    "    'Hemoglobin', x_array,\n",
    "    'Glucose', y_array\n",
    ")"
   ]
  },
  {
   "cell_type": "code",
   "execution_count": null,
   "metadata": {},
   "outputs": [],
   "source": [
    "plot_all_points(test_grid)"
   ]
  },
  {
   "cell_type": "code",
   "execution_count": null,
   "metadata": {},
   "outputs": [],
   "source": [
    "plot_all_points_classified(test_grid)"
   ]
  }
 ],
 "metadata": {
  "kernelspec": {
   "display_name": "Python 3 (ipykernel)",
   "language": "python",
   "name": "python3"
  },
  "language_info": {
   "codemirror_mode": {
    "name": "ipython",
    "version": 3
   },
   "file_extension": ".py",
   "mimetype": "text/x-python",
   "name": "python",
   "nbconvert_exporter": "python",
   "pygments_lexer": "ipython3",
   "version": "3.9.7"
  }
 },
 "nbformat": 4,
 "nbformat_minor": 2
}
